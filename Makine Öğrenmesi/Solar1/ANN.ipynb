{
 "cells": [
  {
   "cell_type": "markdown",
   "metadata": {},
   "source": [
    "# Import"
   ]
  },
  {
   "cell_type": "code",
   "execution_count": 23,
   "metadata": {},
   "outputs": [],
   "source": [
    "import pandas as pd\n",
    "import numpy as np\n",
    "import matplotlib.pyplot as plt\n",
    "import seaborn as sns\n",
    "#import missingno as msno\n",
    "import statsmodels.api as sm\n",
    "#import tensorflow as tf\n",
    "#import xgboost as xgb\n",
    "import pytz\n",
    "import re\n",
    "from datetime import datetime\n",
    "from pytz import timezone\n",
    "from sklearn import preprocessing\n",
    "from sklearn import model_selection\n",
    "from sklearn import neighbors\n",
    "from bokeh.plotting import figure, output_notebook, show\n",
    "from bokeh.models import Range1d\n",
    "#from tensorflow.keras.layers import Dense,Activation,Dropout\n",
    "#from tensorflow.keras.models import Sequential,load_model\n",
    "#from tensorflow.keras.optimizers import SGD, Adam\n",
    "#from tensorflow.keras.models import Sequential\n",
    "from collections import Counter\n",
    "from scipy import stats\n",
    "from sklearn.linear_model import LinearRegression, BayesianRidge, Ridge ,Lasso ,ElasticNet, LassoLarsIC\n",
    "from sklearn.linear_model import RidgeCV, LassoCV, ElasticNetCV\n",
    "from sklearn.metrics import mean_squared_error, r2_score, mean_absolute_error\n",
    "from sklearn.model_selection import KFold,RandomizedSearchCV\n",
    "from sklearn.model_selection import train_test_split, cross_val_score, GridSearchCV\n",
    "from sklearn.preprocessing import StandardScaler, MinMaxScaler, scale, LabelEncoder  \n",
    "from sklearn.impute import SimpleImputer\n",
    "from sklearn.dummy import DummyRegressor\n",
    "from sklearn.tree import DecisionTreeRegressor\n",
    "from sklearn.neighbors import KNeighborsRegressor\n",
    "from sklearn.neural_network import MLPRegressor\n",
    "from sklearn.ensemble import RandomForestRegressor, GradientBoostingRegressor \n",
    "from sklearn.svm import SVR\n",
    "#from catboost import CatBoostRegressor\n",
    "#from lightgbm import LGBMRegressor\n",
    "#from xgboost import XGBRegressor\n",
    "from warnings import filterwarnings\n",
    "filterwarnings('ignore')"
   ]
  },
  {
   "cell_type": "markdown",
   "metadata": {},
   "source": [
    "# Load"
   ]
  },
  {
   "cell_type": "code",
   "execution_count": 11,
   "metadata": {},
   "outputs": [],
   "source": [
    "df = pd.read_csv(r\"C:\\Users\\Hamza\\Desktop\\P2P ortak dosya\\Makine Öğrenmesi\\Solar1\\solar_predict.xls\")   #dataframe determined\n",
    "df.columns=[\"Date\",\"Time\",\"Power\",\"Load\",\"Temp\"]   #the columns in our dataframe\n",
    "from datetime import datetime\n",
    "from pytz import timezone\n",
    "import pytz\n",
    "df.index=df.iloc[:,0]\n",
    "df.index = pd.to_datetime(df.index)  #convert to date\n",
    "df.drop(['Load'], axis=1, inplace=True)   #I will just look at PV Generation\n",
    "df['MonthOfYear'] = df.index.strftime('%m').astype(int)\n",
    "df['DayOfYear'] = df.index.strftime('%j').astype(int)\n",
    "df['WeekOfYear'] = df.index.strftime('%U').astype(int)\n",
    "df.index=df.iloc[:,1]\n",
    "df.index = pd.to_datetime(df.index)\n",
    "df['TimeOfDay'] = df.index.hour"
   ]
  },
  {
   "cell_type": "markdown",
   "metadata": {},
   "source": [
    "# ANN"
   ]
  },
  {
   "cell_type": "code",
   "execution_count": 12,
   "metadata": {},
   "outputs": [],
   "source": [
    "X = df[['MonthOfYear', 'DayOfYear', 'WeekOfYear',\"TimeOfDay\",\"Temp\"]]\n",
    "y = df.iloc[:,2:3]\n",
    "from sklearn.model_selection import train_test_split\n",
    "X_train, X_test, y_train, y_test = train_test_split(X, y, test_size = 0.3, random_state = 0)\n",
    "scaler = StandardScaler()\n",
    "scaler.fit(X_train)\n",
    "X_train_scaled = scaler.transform(X_train)\n",
    "scaler.fit(X_test)\n",
    "X_test_scaled = scaler.transform(X_test)\n",
    "mlp_model = MLPRegressor().fit(X_train_scaled, y_train)"
   ]
  },
  {
   "cell_type": "code",
   "execution_count": 13,
   "metadata": {},
   "outputs": [
    {
     "data": {
      "text/plain": [
       "array([-0.01342741,  0.02771866,  0.79808043,  0.05286193,  1.16065409])"
      ]
     },
     "execution_count": 13,
     "metadata": {},
     "output_type": "execute_result"
    }
   ],
   "source": [
    "mlp_model.predict(X_test_scaled)[0:5]"
   ]
  },
  {
   "cell_type": "code",
   "execution_count": 14,
   "metadata": {},
   "outputs": [
    {
     "data": {
      "text/plain": [
       "0.24360243269966453"
      ]
     },
     "execution_count": 14,
     "metadata": {},
     "output_type": "execute_result"
    }
   ],
   "source": [
    "y_pred = mlp_model.predict(X_test_scaled)\n",
    "np.sqrt(mean_squared_error(y_test, y_pred))"
   ]
  },
  {
   "cell_type": "code",
   "execution_count": 15,
   "metadata": {},
   "outputs": [],
   "source": [
    "\n",
    "mlp_params = {\"alpha\": [0.1, 0.01, 0.02, 0.001, 0.0001], \n",
    "             \"hidden_layer_sizes\": [(10,20), (5,5), (100,100)]}"
   ]
  },
  {
   "cell_type": "code",
   "execution_count": 16,
   "metadata": {},
   "outputs": [
    {
     "name": "stdout",
     "output_type": "stream",
     "text": [
      "Fitting 10 folds for each of 15 candidates, totalling 150 fits\n",
      "[CV] alpha=0.1, hidden_layer_sizes=(10, 20) ..........................\n"
     ]
    },
    {
     "name": "stderr",
     "output_type": "stream",
     "text": [
      "[Parallel(n_jobs=1)]: Using backend SequentialBackend with 1 concurrent workers.\n"
     ]
    },
    {
     "name": "stdout",
     "output_type": "stream",
     "text": [
      "[CV] ........... alpha=0.1, hidden_layer_sizes=(10, 20), total=   2.0s\n",
      "[CV] alpha=0.1, hidden_layer_sizes=(10, 20) ..........................\n"
     ]
    },
    {
     "name": "stderr",
     "output_type": "stream",
     "text": [
      "[Parallel(n_jobs=1)]: Done   1 out of   1 | elapsed:    1.9s remaining:    0.0s\n"
     ]
    },
    {
     "name": "stdout",
     "output_type": "stream",
     "text": [
      "[CV] ........... alpha=0.1, hidden_layer_sizes=(10, 20), total=   1.9s\n",
      "[CV] alpha=0.1, hidden_layer_sizes=(10, 20) ..........................\n",
      "[CV] ........... alpha=0.1, hidden_layer_sizes=(10, 20), total=   3.5s\n",
      "[CV] alpha=0.1, hidden_layer_sizes=(10, 20) ..........................\n",
      "[CV] ........... alpha=0.1, hidden_layer_sizes=(10, 20), total=   2.6s\n",
      "[CV] alpha=0.1, hidden_layer_sizes=(10, 20) ..........................\n",
      "[CV] ........... alpha=0.1, hidden_layer_sizes=(10, 20), total=   2.4s\n",
      "[CV] alpha=0.1, hidden_layer_sizes=(10, 20) ..........................\n",
      "[CV] ........... alpha=0.1, hidden_layer_sizes=(10, 20), total=   2.8s\n",
      "[CV] alpha=0.1, hidden_layer_sizes=(10, 20) ..........................\n",
      "[CV] ........... alpha=0.1, hidden_layer_sizes=(10, 20), total=   2.3s\n",
      "[CV] alpha=0.1, hidden_layer_sizes=(10, 20) ..........................\n",
      "[CV] ........... alpha=0.1, hidden_layer_sizes=(10, 20), total=   1.9s\n",
      "[CV] alpha=0.1, hidden_layer_sizes=(10, 20) ..........................\n",
      "[CV] ........... alpha=0.1, hidden_layer_sizes=(10, 20), total=   2.5s\n",
      "[CV] alpha=0.1, hidden_layer_sizes=(10, 20) ..........................\n",
      "[CV] ........... alpha=0.1, hidden_layer_sizes=(10, 20), total=   2.2s\n",
      "[CV] alpha=0.1, hidden_layer_sizes=(5, 5) ............................\n",
      "[CV] ............. alpha=0.1, hidden_layer_sizes=(5, 5), total=   1.6s\n",
      "[CV] alpha=0.1, hidden_layer_sizes=(5, 5) ............................\n",
      "[CV] ............. alpha=0.1, hidden_layer_sizes=(5, 5), total=   1.7s\n",
      "[CV] alpha=0.1, hidden_layer_sizes=(5, 5) ............................\n",
      "[CV] ............. alpha=0.1, hidden_layer_sizes=(5, 5), total=   2.0s\n",
      "[CV] alpha=0.1, hidden_layer_sizes=(5, 5) ............................\n",
      "[CV] ............. alpha=0.1, hidden_layer_sizes=(5, 5), total=   1.1s\n",
      "[CV] alpha=0.1, hidden_layer_sizes=(5, 5) ............................\n",
      "[CV] ............. alpha=0.1, hidden_layer_sizes=(5, 5), total=   2.3s\n",
      "[CV] alpha=0.1, hidden_layer_sizes=(5, 5) ............................\n",
      "[CV] ............. alpha=0.1, hidden_layer_sizes=(5, 5), total=   1.6s\n",
      "[CV] alpha=0.1, hidden_layer_sizes=(5, 5) ............................\n",
      "[CV] ............. alpha=0.1, hidden_layer_sizes=(5, 5), total=   2.3s\n",
      "[CV] alpha=0.1, hidden_layer_sizes=(5, 5) ............................\n",
      "[CV] ............. alpha=0.1, hidden_layer_sizes=(5, 5), total=   1.9s\n",
      "[CV] alpha=0.1, hidden_layer_sizes=(5, 5) ............................\n",
      "[CV] ............. alpha=0.1, hidden_layer_sizes=(5, 5), total=   1.7s\n",
      "[CV] alpha=0.1, hidden_layer_sizes=(5, 5) ............................\n",
      "[CV] ............. alpha=0.1, hidden_layer_sizes=(5, 5), total=   2.4s\n",
      "[CV] alpha=0.1, hidden_layer_sizes=(100, 100) ........................\n",
      "[CV] ......... alpha=0.1, hidden_layer_sizes=(100, 100), total=   7.1s\n",
      "[CV] alpha=0.1, hidden_layer_sizes=(100, 100) ........................\n",
      "[CV] ......... alpha=0.1, hidden_layer_sizes=(100, 100), total=   8.2s\n",
      "[CV] alpha=0.1, hidden_layer_sizes=(100, 100) ........................\n",
      "[CV] ......... alpha=0.1, hidden_layer_sizes=(100, 100), total=   9.6s\n",
      "[CV] alpha=0.1, hidden_layer_sizes=(100, 100) ........................\n",
      "[CV] ......... alpha=0.1, hidden_layer_sizes=(100, 100), total=  10.2s\n",
      "[CV] alpha=0.1, hidden_layer_sizes=(100, 100) ........................\n",
      "[CV] ......... alpha=0.1, hidden_layer_sizes=(100, 100), total=   6.4s\n",
      "[CV] alpha=0.1, hidden_layer_sizes=(100, 100) ........................\n",
      "[CV] ......... alpha=0.1, hidden_layer_sizes=(100, 100), total=   9.0s\n",
      "[CV] alpha=0.1, hidden_layer_sizes=(100, 100) ........................\n",
      "[CV] ......... alpha=0.1, hidden_layer_sizes=(100, 100), total=   6.0s\n",
      "[CV] alpha=0.1, hidden_layer_sizes=(100, 100) ........................\n",
      "[CV] ......... alpha=0.1, hidden_layer_sizes=(100, 100), total=   6.8s\n",
      "[CV] alpha=0.1, hidden_layer_sizes=(100, 100) ........................\n",
      "[CV] ......... alpha=0.1, hidden_layer_sizes=(100, 100), total=   8.7s\n",
      "[CV] alpha=0.1, hidden_layer_sizes=(100, 100) ........................\n",
      "[CV] ......... alpha=0.1, hidden_layer_sizes=(100, 100), total=   9.0s\n",
      "[CV] alpha=0.01, hidden_layer_sizes=(10, 20) .........................\n",
      "[CV] .......... alpha=0.01, hidden_layer_sizes=(10, 20), total=   3.3s\n",
      "[CV] alpha=0.01, hidden_layer_sizes=(10, 20) .........................\n",
      "[CV] .......... alpha=0.01, hidden_layer_sizes=(10, 20), total=   1.6s\n",
      "[CV] alpha=0.01, hidden_layer_sizes=(10, 20) .........................\n",
      "[CV] .......... alpha=0.01, hidden_layer_sizes=(10, 20), total=   1.7s\n",
      "[CV] alpha=0.01, hidden_layer_sizes=(10, 20) .........................\n",
      "[CV] .......... alpha=0.01, hidden_layer_sizes=(10, 20), total=   1.7s\n",
      "[CV] alpha=0.01, hidden_layer_sizes=(10, 20) .........................\n",
      "[CV] .......... alpha=0.01, hidden_layer_sizes=(10, 20), total=   2.0s\n",
      "[CV] alpha=0.01, hidden_layer_sizes=(10, 20) .........................\n",
      "[CV] .......... alpha=0.01, hidden_layer_sizes=(10, 20), total=   1.6s\n",
      "[CV] alpha=0.01, hidden_layer_sizes=(10, 20) .........................\n",
      "[CV] .......... alpha=0.01, hidden_layer_sizes=(10, 20), total=   3.5s\n",
      "[CV] alpha=0.01, hidden_layer_sizes=(10, 20) .........................\n",
      "[CV] .......... alpha=0.01, hidden_layer_sizes=(10, 20), total=   2.8s\n",
      "[CV] alpha=0.01, hidden_layer_sizes=(10, 20) .........................\n",
      "[CV] .......... alpha=0.01, hidden_layer_sizes=(10, 20), total=   1.7s\n",
      "[CV] alpha=0.01, hidden_layer_sizes=(10, 20) .........................\n",
      "[CV] .......... alpha=0.01, hidden_layer_sizes=(10, 20), total=   1.7s\n",
      "[CV] alpha=0.01, hidden_layer_sizes=(5, 5) ...........................\n",
      "[CV] ............ alpha=0.01, hidden_layer_sizes=(5, 5), total=   1.5s\n",
      "[CV] alpha=0.01, hidden_layer_sizes=(5, 5) ...........................\n",
      "[CV] ............ alpha=0.01, hidden_layer_sizes=(5, 5), total=   2.3s\n",
      "[CV] alpha=0.01, hidden_layer_sizes=(5, 5) ...........................\n",
      "[CV] ............ alpha=0.01, hidden_layer_sizes=(5, 5), total=   2.3s\n",
      "[CV] alpha=0.01, hidden_layer_sizes=(5, 5) ...........................\n",
      "[CV] ............ alpha=0.01, hidden_layer_sizes=(5, 5), total=   1.9s\n",
      "[CV] alpha=0.01, hidden_layer_sizes=(5, 5) ...........................\n",
      "[CV] ............ alpha=0.01, hidden_layer_sizes=(5, 5), total=   1.2s\n",
      "[CV] alpha=0.01, hidden_layer_sizes=(5, 5) ...........................\n",
      "[CV] ............ alpha=0.01, hidden_layer_sizes=(5, 5), total=   1.5s\n",
      "[CV] alpha=0.01, hidden_layer_sizes=(5, 5) ...........................\n",
      "[CV] ............ alpha=0.01, hidden_layer_sizes=(5, 5), total=   2.3s\n",
      "[CV] alpha=0.01, hidden_layer_sizes=(5, 5) ...........................\n",
      "[CV] ............ alpha=0.01, hidden_layer_sizes=(5, 5), total=   0.9s\n",
      "[CV] alpha=0.01, hidden_layer_sizes=(5, 5) ...........................\n",
      "[CV] ............ alpha=0.01, hidden_layer_sizes=(5, 5), total=   1.9s\n",
      "[CV] alpha=0.01, hidden_layer_sizes=(5, 5) ...........................\n",
      "[CV] ............ alpha=0.01, hidden_layer_sizes=(5, 5), total=   1.3s\n",
      "[CV] alpha=0.01, hidden_layer_sizes=(100, 100) .......................\n",
      "[CV] ........ alpha=0.01, hidden_layer_sizes=(100, 100), total=   3.9s\n",
      "[CV] alpha=0.01, hidden_layer_sizes=(100, 100) .......................\n",
      "[CV] ........ alpha=0.01, hidden_layer_sizes=(100, 100), total=   4.8s\n",
      "[CV] alpha=0.01, hidden_layer_sizes=(100, 100) .......................\n",
      "[CV] ........ alpha=0.01, hidden_layer_sizes=(100, 100), total=   3.6s\n",
      "[CV] alpha=0.01, hidden_layer_sizes=(100, 100) .......................\n",
      "[CV] ........ alpha=0.01, hidden_layer_sizes=(100, 100), total=   5.1s\n",
      "[CV] alpha=0.01, hidden_layer_sizes=(100, 100) .......................\n",
      "[CV] ........ alpha=0.01, hidden_layer_sizes=(100, 100), total=   6.0s\n",
      "[CV] alpha=0.01, hidden_layer_sizes=(100, 100) .......................\n",
      "[CV] ........ alpha=0.01, hidden_layer_sizes=(100, 100), total=   4.9s\n",
      "[CV] alpha=0.01, hidden_layer_sizes=(100, 100) .......................\n",
      "[CV] ........ alpha=0.01, hidden_layer_sizes=(100, 100), total=   6.6s\n",
      "[CV] alpha=0.01, hidden_layer_sizes=(100, 100) .......................\n",
      "[CV] ........ alpha=0.01, hidden_layer_sizes=(100, 100), total=   7.9s\n",
      "[CV] alpha=0.01, hidden_layer_sizes=(100, 100) .......................\n",
      "[CV] ........ alpha=0.01, hidden_layer_sizes=(100, 100), total=   5.3s\n",
      "[CV] alpha=0.01, hidden_layer_sizes=(100, 100) .......................\n"
     ]
    },
    {
     "name": "stdout",
     "output_type": "stream",
     "text": [
      "[CV] ........ alpha=0.01, hidden_layer_sizes=(100, 100), total=   4.0s\n",
      "[CV] alpha=0.02, hidden_layer_sizes=(10, 20) .........................\n",
      "[CV] .......... alpha=0.02, hidden_layer_sizes=(10, 20), total=   1.7s\n",
      "[CV] alpha=0.02, hidden_layer_sizes=(10, 20) .........................\n",
      "[CV] .......... alpha=0.02, hidden_layer_sizes=(10, 20), total=   2.8s\n",
      "[CV] alpha=0.02, hidden_layer_sizes=(10, 20) .........................\n",
      "[CV] .......... alpha=0.02, hidden_layer_sizes=(10, 20), total=   3.6s\n",
      "[CV] alpha=0.02, hidden_layer_sizes=(10, 20) .........................\n",
      "[CV] .......... alpha=0.02, hidden_layer_sizes=(10, 20), total=   2.3s\n",
      "[CV] alpha=0.02, hidden_layer_sizes=(10, 20) .........................\n",
      "[CV] .......... alpha=0.02, hidden_layer_sizes=(10, 20), total=   2.1s\n",
      "[CV] alpha=0.02, hidden_layer_sizes=(10, 20) .........................\n",
      "[CV] .......... alpha=0.02, hidden_layer_sizes=(10, 20), total=   1.9s\n",
      "[CV] alpha=0.02, hidden_layer_sizes=(10, 20) .........................\n",
      "[CV] .......... alpha=0.02, hidden_layer_sizes=(10, 20), total=   2.2s\n",
      "[CV] alpha=0.02, hidden_layer_sizes=(10, 20) .........................\n",
      "[CV] .......... alpha=0.02, hidden_layer_sizes=(10, 20), total=   1.6s\n",
      "[CV] alpha=0.02, hidden_layer_sizes=(10, 20) .........................\n",
      "[CV] .......... alpha=0.02, hidden_layer_sizes=(10, 20), total=   2.2s\n",
      "[CV] alpha=0.02, hidden_layer_sizes=(10, 20) .........................\n",
      "[CV] .......... alpha=0.02, hidden_layer_sizes=(10, 20), total=   2.6s\n",
      "[CV] alpha=0.02, hidden_layer_sizes=(5, 5) ...........................\n",
      "[CV] ............ alpha=0.02, hidden_layer_sizes=(5, 5), total=   1.2s\n",
      "[CV] alpha=0.02, hidden_layer_sizes=(5, 5) ...........................\n",
      "[CV] ............ alpha=0.02, hidden_layer_sizes=(5, 5), total=   2.1s\n",
      "[CV] alpha=0.02, hidden_layer_sizes=(5, 5) ...........................\n",
      "[CV] ............ alpha=0.02, hidden_layer_sizes=(5, 5), total=   1.4s\n",
      "[CV] alpha=0.02, hidden_layer_sizes=(5, 5) ...........................\n",
      "[CV] ............ alpha=0.02, hidden_layer_sizes=(5, 5), total=   1.7s\n",
      "[CV] alpha=0.02, hidden_layer_sizes=(5, 5) ...........................\n",
      "[CV] ............ alpha=0.02, hidden_layer_sizes=(5, 5), total=   1.8s\n",
      "[CV] alpha=0.02, hidden_layer_sizes=(5, 5) ...........................\n",
      "[CV] ............ alpha=0.02, hidden_layer_sizes=(5, 5), total=   2.4s\n",
      "[CV] alpha=0.02, hidden_layer_sizes=(5, 5) ...........................\n",
      "[CV] ............ alpha=0.02, hidden_layer_sizes=(5, 5), total=   2.5s\n",
      "[CV] alpha=0.02, hidden_layer_sizes=(5, 5) ...........................\n",
      "[CV] ............ alpha=0.02, hidden_layer_sizes=(5, 5), total=   2.4s\n",
      "[CV] alpha=0.02, hidden_layer_sizes=(5, 5) ...........................\n",
      "[CV] ............ alpha=0.02, hidden_layer_sizes=(5, 5), total=   2.4s\n",
      "[CV] alpha=0.02, hidden_layer_sizes=(5, 5) ...........................\n",
      "[CV] ............ alpha=0.02, hidden_layer_sizes=(5, 5), total=   1.2s\n",
      "[CV] alpha=0.02, hidden_layer_sizes=(100, 100) .......................\n",
      "[CV] ........ alpha=0.02, hidden_layer_sizes=(100, 100), total=   4.8s\n",
      "[CV] alpha=0.02, hidden_layer_sizes=(100, 100) .......................\n",
      "[CV] ........ alpha=0.02, hidden_layer_sizes=(100, 100), total=   8.2s\n",
      "[CV] alpha=0.02, hidden_layer_sizes=(100, 100) .......................\n",
      "[CV] ........ alpha=0.02, hidden_layer_sizes=(100, 100), total=   6.0s\n",
      "[CV] alpha=0.02, hidden_layer_sizes=(100, 100) .......................\n",
      "[CV] ........ alpha=0.02, hidden_layer_sizes=(100, 100), total=   7.0s\n",
      "[CV] alpha=0.02, hidden_layer_sizes=(100, 100) .......................\n",
      "[CV] ........ alpha=0.02, hidden_layer_sizes=(100, 100), total=   4.4s\n",
      "[CV] alpha=0.02, hidden_layer_sizes=(100, 100) .......................\n",
      "[CV] ........ alpha=0.02, hidden_layer_sizes=(100, 100), total=   5.8s\n",
      "[CV] alpha=0.02, hidden_layer_sizes=(100, 100) .......................\n",
      "[CV] ........ alpha=0.02, hidden_layer_sizes=(100, 100), total=   6.4s\n",
      "[CV] alpha=0.02, hidden_layer_sizes=(100, 100) .......................\n",
      "[CV] ........ alpha=0.02, hidden_layer_sizes=(100, 100), total=   4.4s\n",
      "[CV] alpha=0.02, hidden_layer_sizes=(100, 100) .......................\n",
      "[CV] ........ alpha=0.02, hidden_layer_sizes=(100, 100), total=   5.6s\n",
      "[CV] alpha=0.02, hidden_layer_sizes=(100, 100) .......................\n",
      "[CV] ........ alpha=0.02, hidden_layer_sizes=(100, 100), total=   5.3s\n",
      "[CV] alpha=0.001, hidden_layer_sizes=(10, 20) ........................\n",
      "[CV] ......... alpha=0.001, hidden_layer_sizes=(10, 20), total=   2.6s\n",
      "[CV] alpha=0.001, hidden_layer_sizes=(10, 20) ........................\n",
      "[CV] ......... alpha=0.001, hidden_layer_sizes=(10, 20), total=   2.2s\n",
      "[CV] alpha=0.001, hidden_layer_sizes=(10, 20) ........................\n",
      "[CV] ......... alpha=0.001, hidden_layer_sizes=(10, 20), total=   1.8s\n",
      "[CV] alpha=0.001, hidden_layer_sizes=(10, 20) ........................\n",
      "[CV] ......... alpha=0.001, hidden_layer_sizes=(10, 20), total=   1.7s\n",
      "[CV] alpha=0.001, hidden_layer_sizes=(10, 20) ........................\n",
      "[CV] ......... alpha=0.001, hidden_layer_sizes=(10, 20), total=   4.0s\n",
      "[CV] alpha=0.001, hidden_layer_sizes=(10, 20) ........................\n",
      "[CV] ......... alpha=0.001, hidden_layer_sizes=(10, 20), total=   1.9s\n",
      "[CV] alpha=0.001, hidden_layer_sizes=(10, 20) ........................\n",
      "[CV] ......... alpha=0.001, hidden_layer_sizes=(10, 20), total=   2.4s\n",
      "[CV] alpha=0.001, hidden_layer_sizes=(10, 20) ........................\n",
      "[CV] ......... alpha=0.001, hidden_layer_sizes=(10, 20), total=   2.7s\n",
      "[CV] alpha=0.001, hidden_layer_sizes=(10, 20) ........................\n",
      "[CV] ......... alpha=0.001, hidden_layer_sizes=(10, 20), total=   2.1s\n",
      "[CV] alpha=0.001, hidden_layer_sizes=(10, 20) ........................\n",
      "[CV] ......... alpha=0.001, hidden_layer_sizes=(10, 20), total=   2.3s\n",
      "[CV] alpha=0.001, hidden_layer_sizes=(5, 5) ..........................\n",
      "[CV] ........... alpha=0.001, hidden_layer_sizes=(5, 5), total=   2.1s\n",
      "[CV] alpha=0.001, hidden_layer_sizes=(5, 5) ..........................\n",
      "[CV] ........... alpha=0.001, hidden_layer_sizes=(5, 5), total=   2.4s\n",
      "[CV] alpha=0.001, hidden_layer_sizes=(5, 5) ..........................\n",
      "[CV] ........... alpha=0.001, hidden_layer_sizes=(5, 5), total=   1.9s\n",
      "[CV] alpha=0.001, hidden_layer_sizes=(5, 5) ..........................\n",
      "[CV] ........... alpha=0.001, hidden_layer_sizes=(5, 5), total=   1.2s\n",
      "[CV] alpha=0.001, hidden_layer_sizes=(5, 5) ..........................\n",
      "[CV] ........... alpha=0.001, hidden_layer_sizes=(5, 5), total=   2.4s\n",
      "[CV] alpha=0.001, hidden_layer_sizes=(5, 5) ..........................\n",
      "[CV] ........... alpha=0.001, hidden_layer_sizes=(5, 5), total=   2.4s\n",
      "[CV] alpha=0.001, hidden_layer_sizes=(5, 5) ..........................\n",
      "[CV] ........... alpha=0.001, hidden_layer_sizes=(5, 5), total=   2.3s\n",
      "[CV] alpha=0.001, hidden_layer_sizes=(5, 5) ..........................\n",
      "[CV] ........... alpha=0.001, hidden_layer_sizes=(5, 5), total=   1.2s\n",
      "[CV] alpha=0.001, hidden_layer_sizes=(5, 5) ..........................\n",
      "[CV] ........... alpha=0.001, hidden_layer_sizes=(5, 5), total=   2.0s\n",
      "[CV] alpha=0.001, hidden_layer_sizes=(5, 5) ..........................\n",
      "[CV] ........... alpha=0.001, hidden_layer_sizes=(5, 5), total=   2.4s\n",
      "[CV] alpha=0.001, hidden_layer_sizes=(100, 100) ......................\n",
      "[CV] ....... alpha=0.001, hidden_layer_sizes=(100, 100), total=   6.7s\n",
      "[CV] alpha=0.001, hidden_layer_sizes=(100, 100) ......................\n",
      "[CV] ....... alpha=0.001, hidden_layer_sizes=(100, 100), total=   5.5s\n",
      "[CV] alpha=0.001, hidden_layer_sizes=(100, 100) ......................\n",
      "[CV] ....... alpha=0.001, hidden_layer_sizes=(100, 100), total=   5.2s\n",
      "[CV] alpha=0.001, hidden_layer_sizes=(100, 100) ......................\n",
      "[CV] ....... alpha=0.001, hidden_layer_sizes=(100, 100), total=   3.6s\n",
      "[CV] alpha=0.001, hidden_layer_sizes=(100, 100) ......................\n",
      "[CV] ....... alpha=0.001, hidden_layer_sizes=(100, 100), total=   4.7s\n",
      "[CV] alpha=0.001, hidden_layer_sizes=(100, 100) ......................\n",
      "[CV] ....... alpha=0.001, hidden_layer_sizes=(100, 100), total=   6.5s\n",
      "[CV] alpha=0.001, hidden_layer_sizes=(100, 100) ......................\n",
      "[CV] ....... alpha=0.001, hidden_layer_sizes=(100, 100), total=   5.5s\n",
      "[CV] alpha=0.001, hidden_layer_sizes=(100, 100) ......................\n"
     ]
    },
    {
     "name": "stdout",
     "output_type": "stream",
     "text": [
      "[CV] ....... alpha=0.001, hidden_layer_sizes=(100, 100), total=   4.3s\n",
      "[CV] alpha=0.001, hidden_layer_sizes=(100, 100) ......................\n",
      "[CV] ....... alpha=0.001, hidden_layer_sizes=(100, 100), total=   5.3s\n",
      "[CV] alpha=0.001, hidden_layer_sizes=(100, 100) ......................\n",
      "[CV] ....... alpha=0.001, hidden_layer_sizes=(100, 100), total=   5.1s\n",
      "[CV] alpha=0.0001, hidden_layer_sizes=(10, 20) .......................\n",
      "[CV] ........ alpha=0.0001, hidden_layer_sizes=(10, 20), total=   3.1s\n",
      "[CV] alpha=0.0001, hidden_layer_sizes=(10, 20) .......................\n",
      "[CV] ........ alpha=0.0001, hidden_layer_sizes=(10, 20), total=   3.4s\n",
      "[CV] alpha=0.0001, hidden_layer_sizes=(10, 20) .......................\n",
      "[CV] ........ alpha=0.0001, hidden_layer_sizes=(10, 20), total=   1.6s\n",
      "[CV] alpha=0.0001, hidden_layer_sizes=(10, 20) .......................\n",
      "[CV] ........ alpha=0.0001, hidden_layer_sizes=(10, 20), total=   3.1s\n",
      "[CV] alpha=0.0001, hidden_layer_sizes=(10, 20) .......................\n",
      "[CV] ........ alpha=0.0001, hidden_layer_sizes=(10, 20), total=   2.7s\n",
      "[CV] alpha=0.0001, hidden_layer_sizes=(10, 20) .......................\n",
      "[CV] ........ alpha=0.0001, hidden_layer_sizes=(10, 20), total=   3.0s\n",
      "[CV] alpha=0.0001, hidden_layer_sizes=(10, 20) .......................\n",
      "[CV] ........ alpha=0.0001, hidden_layer_sizes=(10, 20), total=   1.7s\n",
      "[CV] alpha=0.0001, hidden_layer_sizes=(10, 20) .......................\n",
      "[CV] ........ alpha=0.0001, hidden_layer_sizes=(10, 20), total=   2.0s\n",
      "[CV] alpha=0.0001, hidden_layer_sizes=(10, 20) .......................\n",
      "[CV] ........ alpha=0.0001, hidden_layer_sizes=(10, 20), total=   3.5s\n",
      "[CV] alpha=0.0001, hidden_layer_sizes=(10, 20) .......................\n",
      "[CV] ........ alpha=0.0001, hidden_layer_sizes=(10, 20), total=   2.4s\n",
      "[CV] alpha=0.0001, hidden_layer_sizes=(5, 5) .........................\n",
      "[CV] .......... alpha=0.0001, hidden_layer_sizes=(5, 5), total=   2.2s\n",
      "[CV] alpha=0.0001, hidden_layer_sizes=(5, 5) .........................\n",
      "[CV] .......... alpha=0.0001, hidden_layer_sizes=(5, 5), total=   2.2s\n",
      "[CV] alpha=0.0001, hidden_layer_sizes=(5, 5) .........................\n",
      "[CV] .......... alpha=0.0001, hidden_layer_sizes=(5, 5), total=   1.7s\n",
      "[CV] alpha=0.0001, hidden_layer_sizes=(5, 5) .........................\n",
      "[CV] .......... alpha=0.0001, hidden_layer_sizes=(5, 5), total=   2.4s\n",
      "[CV] alpha=0.0001, hidden_layer_sizes=(5, 5) .........................\n",
      "[CV] .......... alpha=0.0001, hidden_layer_sizes=(5, 5), total=   2.4s\n",
      "[CV] alpha=0.0001, hidden_layer_sizes=(5, 5) .........................\n",
      "[CV] .......... alpha=0.0001, hidden_layer_sizes=(5, 5), total=   1.5s\n",
      "[CV] alpha=0.0001, hidden_layer_sizes=(5, 5) .........................\n",
      "[CV] .......... alpha=0.0001, hidden_layer_sizes=(5, 5), total=   1.2s\n",
      "[CV] alpha=0.0001, hidden_layer_sizes=(5, 5) .........................\n",
      "[CV] .......... alpha=0.0001, hidden_layer_sizes=(5, 5), total=   0.9s\n",
      "[CV] alpha=0.0001, hidden_layer_sizes=(5, 5) .........................\n",
      "[CV] .......... alpha=0.0001, hidden_layer_sizes=(5, 5), total=   2.4s\n",
      "[CV] alpha=0.0001, hidden_layer_sizes=(5, 5) .........................\n",
      "[CV] .......... alpha=0.0001, hidden_layer_sizes=(5, 5), total=   1.4s\n",
      "[CV] alpha=0.0001, hidden_layer_sizes=(100, 100) .....................\n",
      "[CV] ...... alpha=0.0001, hidden_layer_sizes=(100, 100), total=   6.5s\n",
      "[CV] alpha=0.0001, hidden_layer_sizes=(100, 100) .....................\n",
      "[CV] ...... alpha=0.0001, hidden_layer_sizes=(100, 100), total=   5.1s\n",
      "[CV] alpha=0.0001, hidden_layer_sizes=(100, 100) .....................\n",
      "[CV] ...... alpha=0.0001, hidden_layer_sizes=(100, 100), total=   4.7s\n",
      "[CV] alpha=0.0001, hidden_layer_sizes=(100, 100) .....................\n",
      "[CV] ...... alpha=0.0001, hidden_layer_sizes=(100, 100), total=   6.6s\n",
      "[CV] alpha=0.0001, hidden_layer_sizes=(100, 100) .....................\n",
      "[CV] ...... alpha=0.0001, hidden_layer_sizes=(100, 100), total=   4.3s\n",
      "[CV] alpha=0.0001, hidden_layer_sizes=(100, 100) .....................\n",
      "[CV] ...... alpha=0.0001, hidden_layer_sizes=(100, 100), total=   5.0s\n",
      "[CV] alpha=0.0001, hidden_layer_sizes=(100, 100) .....................\n",
      "[CV] ...... alpha=0.0001, hidden_layer_sizes=(100, 100), total=   7.4s\n",
      "[CV] alpha=0.0001, hidden_layer_sizes=(100, 100) .....................\n",
      "[CV] ...... alpha=0.0001, hidden_layer_sizes=(100, 100), total=   6.0s\n",
      "[CV] alpha=0.0001, hidden_layer_sizes=(100, 100) .....................\n",
      "[CV] ...... alpha=0.0001, hidden_layer_sizes=(100, 100), total=   5.1s\n",
      "[CV] alpha=0.0001, hidden_layer_sizes=(100, 100) .....................\n",
      "[CV] ...... alpha=0.0001, hidden_layer_sizes=(100, 100), total=   4.0s\n"
     ]
    },
    {
     "name": "stderr",
     "output_type": "stream",
     "text": [
      "[Parallel(n_jobs=1)]: Done 150 out of 150 | elapsed:  8.5min finished\n"
     ]
    }
   ],
   "source": [
    "mlp_cv_model = GridSearchCV(mlp_model,mlp_params,cv =10, verbose =2).fit(X_train_scaled,y_train)"
   ]
  },
  {
   "cell_type": "code",
   "execution_count": 17,
   "metadata": {},
   "outputs": [
    {
     "data": {
      "text/plain": [
       "{'alpha': 0.0001, 'hidden_layer_sizes': (100, 100)}"
      ]
     },
     "execution_count": 17,
     "metadata": {},
     "output_type": "execute_result"
    }
   ],
   "source": [
    "mlp_cv_model.best_params_"
   ]
  },
  {
   "cell_type": "code",
   "execution_count": 19,
   "metadata": {},
   "outputs": [
    {
     "name": "stdout",
     "output_type": "stream",
     "text": [
      "mse =  0.2432252230406239\n",
      "r2 = 0.9131512338445047\n"
     ]
    }
   ],
   "source": [
    "#final\n",
    "mlp_tuned = MLPRegressor(alpha = 0.0001, hidden_layer_sizes = (100,100)).fit(X_train_scaled, y_train)\n",
    "\n",
    "y_pred = mlp_tuned.predict(X_test_scaled)\n",
    "print(\"mse = \",np.sqrt(mean_squared_error(y_test,y_pred)))\n",
    "model=r2_score(y_test, y_pred)\n",
    "print('r2 = {}'.format(model))"
   ]
  },
  {
   "cell_type": "markdown",
   "metadata": {},
   "source": [
    "# Extra"
   ]
  },
  {
   "cell_type": "code",
   "execution_count": 20,
   "metadata": {},
   "outputs": [],
   "source": [
    "X = df[['MonthOfYear', 'DayOfYear', 'WeekOfYear',\"TimeOfDay\",\"Temp\"]]\n",
    "y = df.iloc[:,2:3]\n",
    "from sklearn.model_selection import train_test_split\n",
    "X_train, X_test, y_train, y_test = train_test_split(X, y, test_size = 0.3, random_state =42)\n",
    "scaler = StandardScaler()\n",
    "X_train = scaler.fit_transform(X_train)\n",
    "X_test = scaler.transform(X_test)"
   ]
  },
  {
   "cell_type": "code",
   "execution_count": null,
   "metadata": {},
   "outputs": [],
   "source": [
    "model=Sequential()"
   ]
  },
  {
   "cell_type": "code",
   "execution_count": null,
   "metadata": {},
   "outputs": [],
   "source": [
    "model.add(Dense(256, activation='relu', input_dim=16))\n",
    "model.add(Dropout(0.25))"
   ]
  },
  {
   "cell_type": "code",
   "execution_count": null,
   "metadata": {},
   "outputs": [],
   "source": [
    "model.add(Dense(128, activation='relu'))\n",
    "model.add(Dropout(0.25))\n"
   ]
  },
  {
   "cell_type": "code",
   "execution_count": null,
   "metadata": {},
   "outputs": [],
   "source": [
    "\n",
    "model.add(Dense(64, activation='relu'))\n",
    "model.add(Dropout(0.4))"
   ]
  },
  {
   "cell_type": "code",
   "execution_count": null,
   "metadata": {},
   "outputs": [],
   "source": [
    "model.add(Dense(1, activation='linear'))"
   ]
  },
  {
   "cell_type": "code",
   "execution_count": null,
   "metadata": {},
   "outputs": [],
   "source": [
    "model.compile(metrics='mse',loss='mae',optimizer=Adam)"
   ]
  },
  {
   "cell_type": "code",
   "execution_count": null,
   "metadata": {},
   "outputs": [],
   "source": [
    "history = model.fit(X_train,\n",
    "                    y_train,\n",
    "                    validation_data=(X_test, y_test),\n",
    "                    epochs=70,\n",
    "                    batch_size=64)"
   ]
  },
  {
   "cell_type": "code",
   "execution_count": null,
   "metadata": {},
   "outputs": [],
   "source": [
    "\n",
    "fit = history.history\n",
    "scores = model.evaluate(X_test, y_test)\n",
    "mae = scores[0]\n",
    "mse = scores[1]\n",
    "print('Mean absolute error: ' + str(mae) + '. Mean squared error: ' + str(mse) + '.')"
   ]
  },
  {
   "cell_type": "code",
   "execution_count": null,
   "metadata": {},
   "outputs": [],
   "source": [
    "for i in fit:\n",
    "    plt.plot(fit[i])\n",
    "    plt.title(i + ' over epochs')\n",
    "    plt.ylabel(i)\n",
    "    plt.xlabel('epochs')\n",
    "    plt.show()"
   ]
  }
 ],
 "metadata": {
  "kernelspec": {
   "display_name": "Python 3",
   "language": "python",
   "name": "python3"
  },
  "language_info": {
   "codemirror_mode": {
    "name": "ipython",
    "version": 3
   },
   "file_extension": ".py",
   "mimetype": "text/x-python",
   "name": "python",
   "nbconvert_exporter": "python",
   "pygments_lexer": "ipython3",
   "version": "3.8.5"
  }
 },
 "nbformat": 4,
 "nbformat_minor": 4
}
