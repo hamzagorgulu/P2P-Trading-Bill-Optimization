{
 "cells": [
  {
   "cell_type": "code",
   "execution_count": 6,
   "metadata": {},
   "outputs": [
    {
     "ename": "ModuleNotFoundError",
     "evalue": "No module named 'lightgbm'",
     "output_type": "error",
     "traceback": [
      "\u001b[1;31m---------------------------------------------------------------------------\u001b[0m",
      "\u001b[1;31mModuleNotFoundError\u001b[0m                       Traceback (most recent call last)",
      "\u001b[1;32m<ipython-input-6-d1e7c5151e3a>\u001b[0m in \u001b[0;36m<module>\u001b[1;34m\u001b[0m\n\u001b[0;32m     47\u001b[0m \u001b[1;32mfrom\u001b[0m \u001b[0msklearn\u001b[0m\u001b[1;33m.\u001b[0m\u001b[0msvm\u001b[0m \u001b[1;32mimport\u001b[0m \u001b[0mSVR\u001b[0m\u001b[1;33m\u001b[0m\u001b[1;33m\u001b[0m\u001b[0m\n\u001b[0;32m     48\u001b[0m \u001b[1;31m#from catboost import CatBoostRegressor\u001b[0m\u001b[1;33m\u001b[0m\u001b[1;33m\u001b[0m\u001b[1;33m\u001b[0m\u001b[0m\n\u001b[1;32m---> 49\u001b[1;33m \u001b[1;32mfrom\u001b[0m \u001b[0mlightgbm\u001b[0m \u001b[1;32mimport\u001b[0m \u001b[0mLGBMRegressor\u001b[0m\u001b[1;33m\u001b[0m\u001b[1;33m\u001b[0m\u001b[0m\n\u001b[0m\u001b[0;32m     50\u001b[0m \u001b[1;31m#from xgboost import XGBRegressor\u001b[0m\u001b[1;33m\u001b[0m\u001b[1;33m\u001b[0m\u001b[1;33m\u001b[0m\u001b[0m\n\u001b[0;32m     51\u001b[0m \u001b[1;32mfrom\u001b[0m \u001b[0mwarnings\u001b[0m \u001b[1;32mimport\u001b[0m \u001b[0mfilterwarnings\u001b[0m\u001b[1;33m\u001b[0m\u001b[1;33m\u001b[0m\u001b[0m\n",
      "\u001b[1;31mModuleNotFoundError\u001b[0m: No module named 'lightgbm'"
     ]
    }
   ],
   "source": [
    "import pandas as pd\n",
    "import numpy as np\n",
    "import matplotlib.pyplot as plt\n",
    "import seaborn as sns\n",
    "#import missingno as msno\n",
    "import statsmodels.api as sm\n",
    "#import tensorflow as tf\n",
    "#imp\n",
    "df = pd.read_csv(r\"C:\\Users\\Hamza\\Desktop\\P2P ortak dosya\\Makine Öğrenmesi\\Solar1\\solar_predict.xls\")   #dataframe determined\n",
    "df.columns=[\"Date\",\"Time\",\"Power\",\"Load\",\"Temp\"]   #the columns in our dataframe\n",
    "from datetime import datetime\n",
    "from pytz import timezone\n",
    "import pytz\n",
    "df.index=df.iloc[:,0]\n",
    "df.index = pd.to_datetime(df.index)  #convert to date\n",
    "df.drop(['Load'], axis=1, inplace=True)   #I will just look at PV Generation\n",
    "df['MonthOfYear'] = df.index.strftime('%m').astype(int)\n",
    "df['DayOfYear'] = df.index.strftime('%j').astype(int)\n",
    "df['WeekOfYear'] = df.index.strftime('%U').astype(int)\n",
    "df.index=df.iloc[:,1]\n",
    "df.index = pd.to_datetime(df.index)\n",
    "df['TimeOfDay'] = df.index.hour\n",
    "from pytz import timezone\n",
    "from sklearn import preprocessing\n",
    "from sklearn import model_selection\n",
    "from sklearn import neighbors\n",
    "from bokeh.plotting import figure, output_notebook, show\n",
    "from bokeh.models import Range1d\n",
    "#from tensorflow.keras.layers import Dense,Activation,Dropout\n",
    "#from tensorflow.keras.models import Sequential,load_model\n",
    "#from tensorflow.keras.optimizers import SGD, Adam\n",
    "#from tensorflow.keras.models import Sequential\n",
    "from collections import Counter\n",
    "from scipy import stats\n",
    "from sklearn.linear_model import LinearRegression, BayesianRidge, Ridge ,Lasso ,ElasticNet, LassoLarsIC\n",
    "from sklearn.linear_model import RidgeCV, LassoCV, ElasticNetCV\n",
    "from sklearn.metrics import mean_squared_error, r2_score, mean_absolute_error\n",
    "from sklearn.model_selection import KFold,RandomizedSearchCV\n",
    "from sklearn.model_selection import train_test_split, cross_val_score, GridSearchCV\n",
    "from sklearn.preprocessing import StandardScaler, MinMaxScaler, scale, LabelEncoder  \n",
    "from sklearn.impute import SimpleImputer\n",
    "from sklearn.dummy import DummyRegressor\n",
    "from sklearn.tree import DecisionTreeRegressor\n",
    "from sklearn.neighbors import KNeighborsRegressor\n",
    "from sklearn.neural_network import MLPRegressor\n",
    "from sklearn.ensemble import RandomForestRegressor, GradientBoostingRegressor \n",
    "from sklearn.svm import SVR\n",
    "#from catboost import CatBoostRegressor\n",
    "from lightgbm import LGBMRegressor\n",
    "#from xgboost import XGBRegressor\n",
    "from warnings import filterwarnings\n",
    "filterwarnings('ignore')\n",
    "df = pd.read_csv(r\"C:\\Users\\Hamza\\Desktop\\P2P ortak dosya\\Makine Öğrenmesi\\Solar1\\solar_predict.xls\")   #dataframe determined\n",
    "df.columns=[\"Date\",\"Time\",\"Power\",\"Load\",\"Temp\"]   #the columns in our dataframe\n",
    "from datetime import datetime\n",
    "from pytz import timezone\n",
    "import pytz\n",
    "df.index=df.iloc[:,0]\n",
    "df.index = pd.to_datetime(df.index)  #convert to date\n",
    "df.drop(['Load'], axis=1, inplace=True)   #I will just look at PV Generation\n",
    "df['MonthOfYear'] = df.index.strftime('%m').astype(int)\n",
    "df['DayOfYear'] = df.index.strftime('%j').astype(int)\n",
    "df['WeekOfYear'] = df.index.strftime('%U').astype(int)\n",
    "df.index=df.iloc[:,1]\n",
    "df.index = pd.to_datetime(df.index)\n",
    "df['TimeOfDay'] = df.index.hour"
   ]
  },
  {
   "cell_type": "code",
   "execution_count": 7,
   "metadata": {},
   "outputs": [
    {
     "name": "stdout",
     "output_type": "stream",
     "text": [
      "Note: you may need to restart the kernel to use updated packages.\n"
     ]
    },
    {
     "name": "stderr",
     "output_type": "stream",
     "text": [
      "ERROR: Could not find a version that satisfies the requirement lightbgm (from versions: none)\n",
      "ERROR: No matching distribution found for lightbgm\n"
     ]
    }
   ],
   "source": [
    "pip install lightbgm"
   ]
  },
  {
   "cell_type": "code",
   "execution_count": 3,
   "metadata": {},
   "outputs": [
    {
     "ename": "ModuleNotFoundError",
     "evalue": "No module named 'lightgbm'",
     "output_type": "error",
     "traceback": [
      "\u001b[1;31m---------------------------------------------------------------------------\u001b[0m",
      "\u001b[1;31mModuleNotFoundError\u001b[0m                       Traceback (most recent call last)",
      "\u001b[1;32m<ipython-input-3-c2d5169c2d7b>\u001b[0m in \u001b[0;36m<module>\u001b[1;34m\u001b[0m\n\u001b[0;32m      3\u001b[0m \u001b[1;32mfrom\u001b[0m \u001b[0msklearn\u001b[0m\u001b[1;33m.\u001b[0m\u001b[0mmodel_selection\u001b[0m \u001b[1;32mimport\u001b[0m \u001b[0mtrain_test_split\u001b[0m\u001b[1;33m\u001b[0m\u001b[1;33m\u001b[0m\u001b[0m\n\u001b[0;32m      4\u001b[0m \u001b[0mX_train\u001b[0m\u001b[1;33m,\u001b[0m \u001b[0mX_test\u001b[0m\u001b[1;33m,\u001b[0m \u001b[0my_train\u001b[0m\u001b[1;33m,\u001b[0m \u001b[0my_test\u001b[0m \u001b[1;33m=\u001b[0m \u001b[0mtrain_test_split\u001b[0m\u001b[1;33m(\u001b[0m\u001b[0mX\u001b[0m\u001b[1;33m,\u001b[0m \u001b[0my\u001b[0m\u001b[1;33m,\u001b[0m \u001b[0mtest_size\u001b[0m \u001b[1;33m=\u001b[0m \u001b[1;36m0.3\u001b[0m\u001b[1;33m,\u001b[0m \u001b[0mrandom_state\u001b[0m \u001b[1;33m=\u001b[0m \u001b[1;36m0\u001b[0m\u001b[1;33m)\u001b[0m\u001b[1;33m\u001b[0m\u001b[1;33m\u001b[0m\u001b[0m\n\u001b[1;32m----> 5\u001b[1;33m \u001b[1;32mfrom\u001b[0m \u001b[0mlightgbm\u001b[0m \u001b[1;32mimport\u001b[0m \u001b[0mLGBMRegressor\u001b[0m\u001b[1;33m\u001b[0m\u001b[1;33m\u001b[0m\u001b[0m\n\u001b[0m\u001b[0;32m      6\u001b[0m \u001b[0mlgb_model\u001b[0m \u001b[1;33m=\u001b[0m \u001b[0mLGBMRegressor\u001b[0m\u001b[1;33m(\u001b[0m\u001b[1;33m)\u001b[0m\u001b[1;33m.\u001b[0m\u001b[0mfit\u001b[0m\u001b[1;33m(\u001b[0m\u001b[0mX_train\u001b[0m\u001b[1;33m,\u001b[0m \u001b[0my_train\u001b[0m\u001b[1;33m)\u001b[0m\u001b[1;33m\u001b[0m\u001b[1;33m\u001b[0m\u001b[0m\n\u001b[0;32m      7\u001b[0m \u001b[0my_pred\u001b[0m \u001b[1;33m=\u001b[0m \u001b[0mlgb_model\u001b[0m\u001b[1;33m.\u001b[0m\u001b[0mpredict\u001b[0m\u001b[1;33m(\u001b[0m\u001b[0mX_test\u001b[0m\u001b[1;33m)\u001b[0m\u001b[1;33m\u001b[0m\u001b[1;33m\u001b[0m\u001b[0m\n",
      "\u001b[1;31mModuleNotFoundError\u001b[0m: No module named 'lightgbm'"
     ]
    }
   ],
   "source": [
    "X = df[['MonthOfYear', 'DayOfYear', 'WeekOfYear',\"TimeOfDay\",\"Temp\"]]\n",
    "y = df.iloc[:,2:3]\n",
    "from sklearn.model_selection import train_test_split\n",
    "X_train, X_test, y_train, y_test = train_test_split(X, y, test_size = 0.3, random_state = 0)\n",
    "from lightgbm import LGBMRegressor\n",
    "lgb_model = LGBMRegressor().fit(X_train, y_train)\n",
    "y_pred = lgb_model.predict(X_test)\n",
    "np.sqrt(mean_squared_error(y_test, y_pred))"
   ]
  },
  {
   "cell_type": "code",
   "execution_count": null,
   "metadata": {},
   "outputs": [],
   "source": [
    "lgb_model = LGBMRegressor()\n",
    "lgbm_params = {\"learning_rate\": [0.01, 0.1, 0.5, 1],\n",
    "              \"n_estimators\": [20,40,100,200,500,1000],\n",
    "              \"max_depth\": [1,2,3,4,5,6,7,8,9,10,11,12,13,14,15,16]}"
   ]
  },
  {
   "cell_type": "code",
   "execution_count": null,
   "metadata": {},
   "outputs": [],
   "source": [
    "lgbm_cv_model = GridSearchCV(lgb_model, \n",
    "                             lgbm_params, \n",
    "                             cv = 10,  \n",
    "                             verbose =2).fit(X_train, y_train)"
   ]
  },
  {
   "cell_type": "code",
   "execution_count": null,
   "metadata": {},
   "outputs": [],
   "source": [
    "\n",
    "lgbm_cv_model.best_params_\n",
    "\n",
    "lgbm_tuned = LGBMRegressor(learning_rate = 0.1, \n",
    "                          max_depth = 15, \n",
    "                          n_estimators = 1000).fit(X_train, y_train)"
   ]
  },
  {
   "cell_type": "code",
   "execution_count": null,
   "metadata": {},
   "outputs": [],
   "source": [
    "\n",
    "ypred=lgbm_tuned.predict(X_test)\n",
    "print(\"mse = \",np.sqrt(mean_squared_error(y_test,ypred)))\n",
    "model=r2_score(y_test, y_pred)\n",
    "print('r2 = {}'.format(model)) "
   ]
  },
  {
   "cell_type": "code",
   "execution_count": null,
   "metadata": {},
   "outputs": [],
   "source": [
    "df.index=df.iloc[:,0]\n",
    "df.index = pd.to_datetime(df.index)\n",
    "# Predicting for whole dataset\n",
    "df['y_pred'] =  lgbm_tuned.predict(df[['MonthOfYear', 'DayOfYear', 'WeekOfYear',\"TimeOfDay\",\"Temp\"]])"
   ]
  },
  {
   "cell_type": "code",
   "execution_count": null,
   "metadata": {},
   "outputs": [],
   "source": [
    "# Create Interactive Plot Using Bokeh\n",
    "from bokeh.plotting import figure, output_notebook, show\n",
    "from bokeh.models import Range1d\n",
    "output_notebook() \n"
   ]
  },
  {
   "cell_type": "code",
   "execution_count": null,
   "metadata": {},
   "outputs": [],
   "source": [
    "p = figure(plot_width=800, \n",
    "           plot_height=400,\n",
    "           title=\"FV Elektrik Üretim Tahmini\",\n",
    "           x_axis_label='Tarih ve Zaman',\n",
    "           y_axis_label='Elektrik Üretimi[kW]',\n",
    "           x_axis_type=\"datetime\")\n"
   ]
  },
  {
   "cell_type": "code",
   "execution_count": null,
   "metadata": {},
   "outputs": [],
   "source": [
    "p.line(df.index, df['Power'], legend='Gözlemlenen Elektrik Üretimi', line_width=1)\n",
    "p.line(df.index, df['y_pred'], legend='Tahmin edilen Elektrik Üretimi ', line_width=1, line_color=\"red\")"
   ]
  },
  {
   "cell_type": "code",
   "execution_count": null,
   "metadata": {},
   "outputs": [],
   "source": [
    "show(p, notebook_handle = True)"
   ]
  },
  {
   "cell_type": "code",
   "execution_count": null,
   "metadata": {},
   "outputs": [],
   "source": [
    "Importance = pd.DataFrame({'Importance':lgbm_tuned.feature_importances_*100}, \n",
    "                          index = X_train.columns)\n"
   ]
  },
  {
   "cell_type": "code",
   "execution_count": null,
   "metadata": {},
   "outputs": [],
   "source": [
    "Importance.sort_values(by = 'Importance', \n",
    "                       axis = 0, \n",
    "                       ascending = True).plot(kind = 'barh', \n",
    "                                              color = 'r', )"
   ]
  },
  {
   "cell_type": "code",
   "execution_count": null,
   "metadata": {},
   "outputs": [],
   "source": [
    "plt.xlabel('Variable Importance')\n",
    "plt.gca().legend_ = None"
   ]
  },
  {
   "cell_type": "code",
   "execution_count": null,
   "metadata": {},
   "outputs": [],
   "source": [
    "day=[x for x in range(0,24)]\n",
    "temp1=[15,15,14,14,14,14,15,16,17,17,18,18,18,18,19,18,17,16,15,14,13,13,12,12]\n",
    "print(\"---------------12-1------------\")\n",
    "for i in range(0,24):\n",
    "    print((regressor.predict([[12,18,3,day[i],temp1[i]]])))\n",
    "\n",
    "temp2=[21,21,20,20,20,19,19,20,21,23,24,26,27,29,29,25,23,22,20,20,19,18,18,17]\n",
    "print(\"---------------1-4------------\")\n",
    "for i in range(0,24):\n",
    "    print((regressor.predict([[12,18,3,day[i],temp2[i]]])))\n",
    "\n",
    "temp3=[8,7,6,6,5,5,5,4,5,8,10,11,12,13,13,12,11,10,10,9,9,8,8,7]\n",
    "print(\"---------------1-7------------\")\n",
    "for i in range(0,24):\n",
    "    print((regressor.predict([[12,18,3,day[i],temp3[i]]])))\n",
    "\n",
    "temp4=[12,12,11,10,10,10,9,11,14,17,20,21,22,23,23,23,22,21,18,16,15,14,13,13]\n",
    "print(\"---------------1-10------------\")\n",
    "for i in range(0,24):\n",
    "    print((regressor.predict([[12,18,3,day[i],temp4[i]]])))"
   ]
  },
  {
   "cell_type": "code",
   "execution_count": null,
   "metadata": {},
   "outputs": [],
   "source": []
  }
 ],
 "metadata": {
  "kernelspec": {
   "display_name": "Python 3",
   "language": "python",
   "name": "python3"
  },
  "language_info": {
   "codemirror_mode": {
    "name": "ipython",
    "version": 3
   },
   "file_extension": ".py",
   "mimetype": "text/x-python",
   "name": "python",
   "nbconvert_exporter": "python",
   "pygments_lexer": "ipython3",
   "version": "3.8.5"
  }
 },
 "nbformat": 4,
 "nbformat_minor": 4
}
