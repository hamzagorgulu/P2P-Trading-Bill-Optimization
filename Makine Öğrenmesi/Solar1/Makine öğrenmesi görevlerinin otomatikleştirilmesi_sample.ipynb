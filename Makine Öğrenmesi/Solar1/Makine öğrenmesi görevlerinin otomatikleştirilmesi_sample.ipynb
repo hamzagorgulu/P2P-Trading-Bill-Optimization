{
 "cells": [
  {
   "cell_type": "code",
   "execution_count": null,
   "metadata": {},
   "outputs": [],
   "source": [
    "df = pd.read_csv(\"Hitters.csv\")\n",
    "df = df.dropna()\n",
    "dms = pd.get_dummies(df[['League', 'Division', 'NewLeague']])\n",
    "\n",
    "\n",
    "def compML(df, y, alg):\n",
    "    #train-test ayrimi\n",
    "    y = df[y]\n",
    "    X_ = df.drop(['Salary', 'League', 'Division', 'NewLeague'], axis=1).astype('float64')\n",
    "    X = pd.concat([X_, dms[['League_N', 'Division_W', 'NewLeague_N']]], axis=1)\n",
    "    X_train, X_test, y_train, y_test = train_test_split(X,y,test_size=0.25,random_state=42)\n",
    "    #modelleme\n",
    "    model = alg().fit(X_train, y_train)\n",
    "    y_pred = model.predict(X_test)\n",
    "    RMSE = np.sqrt(mean_squared_error(y_test, y_pred))\n",
    "    model_ismi = alg.__name__\n",
    "    print(model_ismi, \"Modeli Test Hatası:\",RMSE)\n",
    "    \n",
    "\n",
    "compML(df, \"Salary\", SVR)\n",
    "\n",
    "\n",
    "models = [LGBMRegressor, \n",
    "          XGBRegressor, \n",
    "          GradientBoostingRegressor, \n",
    "          RandomForestRegressor, \n",
    "          DecisionTreeRegressor,\n",
    "          MLPRegressor,\n",
    "          KNeighborsRegressor, \n",
    "          SVR]\n",
    "\n",
    "\n",
    "for i in models:\n",
    "    compML(df, \"Salary\", i)\n",
    "    "
   ]
  }
 ],
 "metadata": {
  "kernelspec": {
   "display_name": "Python 3",
   "language": "python",
   "name": "python3"
  },
  "language_info": {
   "codemirror_mode": {
    "name": "ipython",
    "version": 3
   },
   "file_extension": ".py",
   "mimetype": "text/x-python",
   "name": "python",
   "nbconvert_exporter": "python",
   "pygments_lexer": "ipython3",
   "version": "3.8.5"
  }
 },
 "nbformat": 4,
 "nbformat_minor": 4
}
