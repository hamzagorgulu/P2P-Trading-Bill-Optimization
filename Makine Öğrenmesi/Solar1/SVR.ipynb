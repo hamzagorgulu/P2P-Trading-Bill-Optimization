{
 "cells": [
  {
   "cell_type": "code",
   "execution_count": 7,
   "metadata": {},
   "outputs": [],
   "source": [
    "import pandas as pd\n",
    "import numpy as np\n",
    "import matplotlib.pyplot as plt\n",
    "import seaborn as sns\n",
    "#import missingno as msno\n",
    "import statsmodels.api as sm\n",
    "#import tensorflow as tf\n",
    "#imp\n",
    "df = pd.read_csv(r\"C:\\Users\\Hamza\\Desktop\\P2P ortak dosya\\Makine Öğrenmesi\\Solar1\\solar_predict.xls\")   #dataframe determined\n",
    "df.columns=[\"Date\",\"Time\",\"Power\",\"Load\",\"Temp\"]   #the columns in our dataframe\n",
    "from datetime import datetime\n",
    "from pytz import timezone\n",
    "import pytz\n",
    "df.index=df.iloc[:,0]\n",
    "df.index = pd.to_datetime(df.index)  #convert to date\n",
    "df.drop(['Load'], axis=1, inplace=True)   #I will just look at PV Generation\n",
    "df['MonthOfYear'] = df.index.strftime('%m').astype(int)\n",
    "df['DayOfYear'] = df.index.strftime('%j').astype(int)\n",
    "df['WeekOfYear'] = df.index.strftime('%U').astype(int)\n",
    "df.index=df.iloc[:,1]\n",
    "df.index = pd.to_datetime(df.index)\n",
    "df['TimeOfDay'] = df.index.hour\n",
    "from pytz import timezone\n",
    "from sklearn import preprocessing\n",
    "from sklearn import model_selection\n",
    "from sklearn import neighbors\n",
    "from bokeh.plotting import figure, output_notebook, show\n",
    "from bokeh.models import Range1d\n",
    "#from tensorflow.keras.layers import Dense,Activation,Dropout\n",
    "#from tensorflow.keras.models import Sequential,load_model\n",
    "#from tensorflow.keras.optimizers import SGD, Adam\n",
    "#from tensorflow.keras.models import Sequential\n",
    "from collections import Counter\n",
    "from scipy import stats\n",
    "from sklearn.linear_model import LinearRegression, BayesianRidge, Ridge ,Lasso ,ElasticNet, LassoLarsIC\n",
    "from sklearn.linear_model import RidgeCV, LassoCV, ElasticNetCV\n",
    "from sklearn.metrics import mean_squared_error, r2_score, mean_absolute_error\n",
    "from sklearn.model_selection import KFold,RandomizedSearchCV\n",
    "from sklearn.model_selection import train_test_split, cross_val_score, GridSearchCV\n",
    "from sklearn.preprocessing import StandardScaler, MinMaxScaler, scale, LabelEncoder  \n",
    "from sklearn.impute import SimpleImputer\n",
    "from sklearn.dummy import DummyRegressor\n",
    "from sklearn.tree import DecisionTreeRegressor\n",
    "from sklearn.neighbors import KNeighborsRegressor\n",
    "from sklearn.neural_network import MLPRegressor\n",
    "from sklearn.ensemble import RandomForestRegressor, GradientBoostingRegressor \n",
    "from sklearn.svm import SVR\n",
    "#from catboost import CatBoostRegressor\n",
    "#from lightgbm import LGBMRegressor\n",
    "#from xgboost import XGBRegressor\n",
    "from warnings import filterwarnings\n",
    "filterwarnings('ignore')\n",
    "df = pd.read_csv(r\"C:\\Users\\Hamza\\Desktop\\P2P ortak dosya\\Makine Öğrenmesi\\Solar1\\solar_predict.xls\")   #dataframe determined\n",
    "df.columns=[\"Date\",\"Time\",\"Power\",\"Load\",\"Temp\"]   #the columns in our dataframe\n",
    "from datetime import datetime\n",
    "from pytz import timezone\n",
    "import pytz\n",
    "df.index=df.iloc[:,0]\n",
    "df.index = pd.to_datetime(df.index)  #convert to date\n",
    "df.drop(['Load'], axis=1, inplace=True)   #I will just look at PV Generation\n",
    "df['MonthOfYear'] = df.index.strftime('%m').astype(int)\n",
    "df['DayOfYear'] = df.index.strftime('%j').astype(int)\n",
    "df['WeekOfYear'] = df.index.strftime('%U').astype(int)\n",
    "df.index=df.iloc[:,1]\n",
    "df.index = pd.to_datetime(df.index)\n",
    "df['TimeOfDay'] = df.index.hour"
   ]
  },
  {
   "cell_type": "markdown",
   "metadata": {},
   "source": [
    "# SVR"
   ]
  },
  {
   "cell_type": "code",
   "execution_count": 8,
   "metadata": {},
   "outputs": [
    {
     "data": {
      "text/html": [
       "<table class=\"simpletable\">\n",
       "<caption>OLS Regression Results</caption>\n",
       "<tr>\n",
       "  <th>Dep. Variable:</th>          <td>Power</td>      <th>  R-squared (uncentered):</th>      <td>   0.506</td> \n",
       "</tr>\n",
       "<tr>\n",
       "  <th>Model:</th>                   <td>OLS</td>       <th>  Adj. R-squared (uncentered):</th> <td>   0.505</td> \n",
       "</tr>\n",
       "<tr>\n",
       "  <th>Method:</th>             <td>Least Squares</td>  <th>  F-statistic:       </th>          <td>   1792.</td> \n",
       "</tr>\n",
       "<tr>\n",
       "  <th>Date:</th>             <td>Wed, 21 Apr 2021</td> <th>  Prob (F-statistic):</th>           <td>  0.00</td>  \n",
       "</tr>\n",
       "<tr>\n",
       "  <th>Time:</th>                 <td>10:47:44</td>     <th>  Log-Likelihood:    </th>          <td> -9466.3</td> \n",
       "</tr>\n",
       "<tr>\n",
       "  <th>No. Observations:</th>      <td>  8760</td>      <th>  AIC:               </th>          <td>1.894e+04</td>\n",
       "</tr>\n",
       "<tr>\n",
       "  <th>Df Residuals:</th>          <td>  8755</td>      <th>  BIC:               </th>          <td>1.898e+04</td>\n",
       "</tr>\n",
       "<tr>\n",
       "  <th>Df Model:</th>              <td>     5</td>      <th>                     </th>              <td> </td>    \n",
       "</tr>\n",
       "<tr>\n",
       "  <th>Covariance Type:</th>      <td>nonrobust</td>    <th>                     </th>              <td> </td>    \n",
       "</tr>\n",
       "</table>\n",
       "<table class=\"simpletable\">\n",
       "<tr>\n",
       "       <td></td>          <th>coef</th>     <th>std err</th>      <th>t</th>      <th>P>|t|</th>  <th>[0.025</th>    <th>0.975]</th>  \n",
       "</tr>\n",
       "<tr>\n",
       "  <th>MonthOfYear</th> <td>   -0.3028</td> <td>    0.023</td> <td>  -13.066</td> <td> 0.000</td> <td>   -0.348</td> <td>   -0.257</td>\n",
       "</tr>\n",
       "<tr>\n",
       "  <th>DayOfYear</th>   <td>    0.0055</td> <td>    0.004</td> <td>    1.422</td> <td> 0.155</td> <td>   -0.002</td> <td>    0.013</td>\n",
       "</tr>\n",
       "<tr>\n",
       "  <th>WeekOfYear</th>  <td>    0.0301</td> <td>    0.027</td> <td>    1.127</td> <td> 0.260</td> <td>   -0.022</td> <td>    0.082</td>\n",
       "</tr>\n",
       "<tr>\n",
       "  <th>TimeOfDay</th>   <td>   -0.0077</td> <td>    0.001</td> <td>   -7.172</td> <td> 0.000</td> <td>   -0.010</td> <td>   -0.006</td>\n",
       "</tr>\n",
       "<tr>\n",
       "  <th>Temp</th>        <td>    0.0538</td> <td>    0.001</td> <td>   56.880</td> <td> 0.000</td> <td>    0.052</td> <td>    0.056</td>\n",
       "</tr>\n",
       "</table>\n",
       "<table class=\"simpletable\">\n",
       "<tr>\n",
       "  <th>Omnibus:</th>       <td>781.176</td> <th>  Durbin-Watson:     </th> <td>   0.117</td> \n",
       "</tr>\n",
       "<tr>\n",
       "  <th>Prob(Omnibus):</th> <td> 0.000</td>  <th>  Jarque-Bera (JB):  </th> <td>1005.095</td> \n",
       "</tr>\n",
       "<tr>\n",
       "  <th>Skew:</th>          <td> 0.827</td>  <th>  Prob(JB):          </th> <td>5.58e-219</td>\n",
       "</tr>\n",
       "<tr>\n",
       "  <th>Kurtosis:</th>      <td> 2.860</td>  <th>  Cond. No.          </th> <td>    758.</td> \n",
       "</tr>\n",
       "</table><br/><br/>Notes:<br/>[1] R² is computed without centering (uncentered) since the model does not contain a constant.<br/>[2] Standard Errors assume that the covariance matrix of the errors is correctly specified."
      ],
      "text/plain": [
       "<class 'statsmodels.iolib.summary.Summary'>\n",
       "\"\"\"\n",
       "                                 OLS Regression Results                                \n",
       "=======================================================================================\n",
       "Dep. Variable:                  Power   R-squared (uncentered):                   0.506\n",
       "Model:                            OLS   Adj. R-squared (uncentered):              0.505\n",
       "Method:                 Least Squares   F-statistic:                              1792.\n",
       "Date:                Wed, 21 Apr 2021   Prob (F-statistic):                        0.00\n",
       "Time:                        10:47:44   Log-Likelihood:                         -9466.3\n",
       "No. Observations:                8760   AIC:                                  1.894e+04\n",
       "Df Residuals:                    8755   BIC:                                  1.898e+04\n",
       "Df Model:                           5                                                  \n",
       "Covariance Type:            nonrobust                                                  \n",
       "===============================================================================\n",
       "                  coef    std err          t      P>|t|      [0.025      0.975]\n",
       "-------------------------------------------------------------------------------\n",
       "MonthOfYear    -0.3028      0.023    -13.066      0.000      -0.348      -0.257\n",
       "DayOfYear       0.0055      0.004      1.422      0.155      -0.002       0.013\n",
       "WeekOfYear      0.0301      0.027      1.127      0.260      -0.022       0.082\n",
       "TimeOfDay      -0.0077      0.001     -7.172      0.000      -0.010      -0.006\n",
       "Temp            0.0538      0.001     56.880      0.000       0.052       0.056\n",
       "==============================================================================\n",
       "Omnibus:                      781.176   Durbin-Watson:                   0.117\n",
       "Prob(Omnibus):                  0.000   Jarque-Bera (JB):             1005.095\n",
       "Skew:                           0.827   Prob(JB):                    5.58e-219\n",
       "Kurtosis:                       2.860   Cond. No.                         758.\n",
       "==============================================================================\n",
       "\n",
       "Notes:\n",
       "[1] R² is computed without centering (uncentered) since the model does not contain a constant.\n",
       "[2] Standard Errors assume that the covariance matrix of the errors is correctly specified.\n",
       "\"\"\""
      ]
     },
     "execution_count": 8,
     "metadata": {},
     "output_type": "execute_result"
    }
   ],
   "source": [
    "X = df[['MonthOfYear', 'DayOfYear', 'WeekOfYear',\"TimeOfDay\",\"Temp\"]]\n",
    "y = df.iloc[:,2:3]\n",
    "from sklearn.model_selection import train_test_split\n",
    "X_train, X_test, y_train, y_test = train_test_split(X, y, test_size = 0.3, random_state = 0)\n",
    "lm = sm.OLS(y, X)\n",
    "model= lm.fit()\n",
    "model.summary()"
   ]
  },
  {
   "cell_type": "code",
   "execution_count": 9,
   "metadata": {},
   "outputs": [],
   "source": [
    "sc1 = StandardScaler()\n",
    "X_s = sc1.fit_transform(X)\n",
    "sc2 = StandardScaler()\n",
    "y_s = sc2.fit_transform(y)\n",
    "from sklearn.model_selection import train_test_split\n",
    "X_train, X_test, y_train, y_test = train_test_split(X_s, y_s, test_size = 0.3, random_state = 0)\n",
    "svr_model=SVR(\"linear\").fit(X_train,y_train)\n",
    "ypred=svr_model.predict(X_test)"
   ]
  },
  {
   "cell_type": "code",
   "execution_count": 10,
   "metadata": {},
   "outputs": [
    {
     "data": {
      "text/plain": [
       "{'C': 0.5}"
      ]
     },
     "execution_count": 10,
     "metadata": {},
     "output_type": "execute_result"
    }
   ],
   "source": [
    "svr_params = {\"C\": [0.1,0.5,1,3]}\n",
    "svr_cv_model = GridSearchCV(svr_model,svr_params,cv=10).fit(X_train,y_train)\n",
    "svr_cv_model.best_params_"
   ]
  },
  {
   "cell_type": "code",
   "execution_count": 11,
   "metadata": {},
   "outputs": [
    {
     "name": "stdout",
     "output_type": "stream",
     "text": [
      "Fitting 5 folds for each of 4 candidates, totalling 20 fits\n",
      "[CV] C=0.1 ...........................................................\n"
     ]
    },
    {
     "name": "stderr",
     "output_type": "stream",
     "text": [
      "[Parallel(n_jobs=1)]: Using backend SequentialBackend with 1 concurrent workers.\n"
     ]
    },
    {
     "name": "stdout",
     "output_type": "stream",
     "text": [
      "[CV] ............................................ C=0.1, total=   0.7s\n",
      "[CV] C=0.1 ...........................................................\n"
     ]
    },
    {
     "name": "stderr",
     "output_type": "stream",
     "text": [
      "[Parallel(n_jobs=1)]: Done   1 out of   1 | elapsed:    0.6s remaining:    0.0s\n"
     ]
    },
    {
     "name": "stdout",
     "output_type": "stream",
     "text": [
      "[CV] ............................................ C=0.1, total=   0.6s\n",
      "[CV] C=0.1 ...........................................................\n",
      "[CV] ............................................ C=0.1, total=   0.6s\n",
      "[CV] C=0.1 ...........................................................\n",
      "[CV] ............................................ C=0.1, total=   0.6s\n",
      "[CV] C=0.1 ...........................................................\n",
      "[CV] ............................................ C=0.1, total=   0.6s\n",
      "[CV] C=0.5 ...........................................................\n",
      "[CV] ............................................ C=0.5, total=   1.0s\n",
      "[CV] C=0.5 ...........................................................\n",
      "[CV] ............................................ C=0.5, total=   1.0s\n",
      "[CV] C=0.5 ...........................................................\n",
      "[CV] ............................................ C=0.5, total=   1.0s\n",
      "[CV] C=0.5 ...........................................................\n",
      "[CV] ............................................ C=0.5, total=   1.1s\n",
      "[CV] C=0.5 ...........................................................\n",
      "[CV] ............................................ C=0.5, total=   1.0s\n",
      "[CV] C=1 .............................................................\n",
      "[CV] .............................................. C=1, total=   1.4s\n",
      "[CV] C=1 .............................................................\n",
      "[CV] .............................................. C=1, total=   1.4s\n",
      "[CV] C=1 .............................................................\n",
      "[CV] .............................................. C=1, total=   1.3s\n",
      "[CV] C=1 .............................................................\n",
      "[CV] .............................................. C=1, total=   1.3s\n",
      "[CV] C=1 .............................................................\n",
      "[CV] .............................................. C=1, total=   1.4s\n",
      "[CV] C=3 .............................................................\n",
      "[CV] .............................................. C=3, total=   2.7s\n",
      "[CV] C=3 .............................................................\n",
      "[CV] .............................................. C=3, total=   2.7s\n",
      "[CV] C=3 .............................................................\n",
      "[CV] .............................................. C=3, total=   2.5s\n",
      "[CV] C=3 .............................................................\n",
      "[CV] .............................................. C=3, total=   2.8s\n",
      "[CV] C=3 .............................................................\n",
      "[CV] .............................................. C=3, total=   2.6s\n"
     ]
    },
    {
     "name": "stderr",
     "output_type": "stream",
     "text": [
      "[Parallel(n_jobs=1)]: Done  20 out of  20 | elapsed:   28.4s finished\n"
     ]
    }
   ],
   "source": [
    "svr_cv_model = GridSearchCV(svr_model,svr_params,cv=5,verbose=2).fit(X_train,y_train)"
   ]
  },
  {
   "cell_type": "code",
   "execution_count": 12,
   "metadata": {},
   "outputs": [
    {
     "data": {
      "text/plain": [
       "{'C': 0.5}"
      ]
     },
     "execution_count": 12,
     "metadata": {},
     "output_type": "execute_result"
    }
   ],
   "source": [
    "svr_cv_model.best_params_"
   ]
  },
  {
   "cell_type": "code",
   "execution_count": 16,
   "metadata": {},
   "outputs": [
    {
     "name": "stdout",
     "output_type": "stream",
     "text": [
      "mse =  0.975624385441695\n",
      "r2 = 0.0572797928568195\n"
     ]
    }
   ],
   "source": [
    "svr_tuned = SVR(\"poly\", C=0.5).fit(X_train,y_train)\n",
    "ypred=svr_tuned.predict(X_test)\n",
    "print(\"mse = \",np.sqrt(mean_squared_error(y_test,ypred)))\n",
    "model=r2_score(y_test, ypred)\n",
    "print('r2 = {}'.format(model))"
   ]
  },
  {
   "cell_type": "code",
   "execution_count": 20,
   "metadata": {},
   "outputs": [
    {
     "name": "stdout",
     "output_type": "stream",
     "text": [
      "mse =  0.4295374476181777\n",
      "r2 = 0.8172659049176125\n"
     ]
    }
   ],
   "source": [
    "svr_tuned = SVR(\"rbf\", C=0.5).fit(X_train,y_train)\n",
    "ypred=svr_tuned.predict(X_test)\n",
    "print(\"mse = \",np.sqrt(mean_squared_error(y_test,ypred)))\n",
    "model=r2_score(y_test, ypred)\n",
    "print('r2 = {}'.format(model))"
   ]
  },
  {
   "cell_type": "code",
   "execution_count": 22,
   "metadata": {},
   "outputs": [
    {
     "name": "stdout",
     "output_type": "stream",
     "text": [
      "mse =  0.8843027045667986\n",
      "r2 = 0.22550355417237677\n"
     ]
    }
   ],
   "source": [
    "svr_tuned = SVR(\"linear\", C=0.5).fit(X_train,y_train)\n",
    "ypred=svr_tuned.predict(X_test)\n",
    "print(\"mse = \",np.sqrt(mean_squared_error(y_test,ypred)))\n",
    "model=r2_score(y_test, ypred)\n",
    "print('r2 = {}'.format(model))"
   ]
  },
  {
   "cell_type": "code",
   "execution_count": 24,
   "metadata": {},
   "outputs": [
    {
     "name": "stdout",
     "output_type": "stream",
     "text": [
      "mse =  60.76286488954037\n",
      "r2 = -3655.7393629847566\n"
     ]
    }
   ],
   "source": [
    "svr_tuned = SVR(\"sigmoid\", C=0.5).fit(X_train,y_train)\n",
    "ypred=svr_tuned.predict(X_test)\n",
    "print(\"mse = \",np.sqrt(mean_squared_error(y_test,ypred)))\n",
    "model=r2_score(y_test, ypred)\n",
    "print('r2 = {}'.format(model))"
   ]
  }
 ],
 "metadata": {
  "kernelspec": {
   "display_name": "Python 3",
   "language": "python",
   "name": "python3"
  },
  "language_info": {
   "codemirror_mode": {
    "name": "ipython",
    "version": 3
   },
   "file_extension": ".py",
   "mimetype": "text/x-python",
   "name": "python",
   "nbconvert_exporter": "python",
   "pygments_lexer": "ipython3",
   "version": "3.8.5"
  }
 },
 "nbformat": 4,
 "nbformat_minor": 4
}
