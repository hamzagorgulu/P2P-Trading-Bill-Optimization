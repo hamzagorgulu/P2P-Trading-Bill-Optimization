{
 "cells": [
  {
   "cell_type": "code",
   "execution_count": null,
   "metadata": {},
   "outputs": [],
   "source": [
    "X = df[['MonthOfYear', 'DayOfYear', 'WeekOfYear',\"TimeOfDay\",\"Temp\"]]\n",
    "y = df.iloc[:,2:3]\n",
    "from sklearn.model_selection import train_test_split\n",
    "X_train, X_test, y_train, y_test = train_test_split(X, y, test_size = 0.3, random_state = 0)\n",
    "\n",
    "from sklearn.ensemble import RandomForestRegressor\n",
    "from sklearn.model_selection import cross_val_score\n",
    "regressor = RandomForestRegressor(n_estimators = 100)\n",
    "regressor.fit(X_train, y_train)\n",
    "feature_importances = regressor.feature_importances_\n",
    "\n",
    "X_train_best = X_train[['MonthOfYear', 'DayOfYear', 'WeekOfYear',\"TimeOfDay\",\"Temp\"]]\n",
    "X_test_best = X_test[['MonthOfYear', 'DayOfYear', 'WeekOfYear',\"TimeOfDay\",\"Temp\"]]\n",
    "regressor.fit(X_train_best, y_train)\n",
    "\n",
    "accuracies = cross_val_score(estimator = regressor, X = X_train_best,y = y_train, cv = 10, scoring = 'r2',verbose=2)\n",
    "accuracy = accuracies.mean()\n",
    "print('r2 = {}'.format(accuracy))\n",
    "\n",
    "df.index=df.iloc[:,0]\n",
    "df.index = pd.to_datetime(df.index)\n",
    "# Predicting for whole dataset\n",
    "df['y_pred'] =  regressor.predict(df[['MonthOfYear', 'DayOfYear', 'WeekOfYear',\"TimeOfDay\",\"Temp\"]])\n",
    "\n",
    "# Create Interactive Plot Using Bokeh\n",
    "from bokeh.plotting import figure, output_notebook, show\n",
    "from bokeh.models import Range1d\n",
    "output_notebook() \n",
    "\n",
    "p = figure(plot_width=800, \n",
    "           plot_height=400,\n",
    "           title=\"PV Electricity Consumption Prediction\",\n",
    "           x_axis_label='Date and Time',\n",
    "           y_axis_label='Electricity Consumption',\n",
    "           x_axis_type=\"datetime\")\n",
    "\n",
    "p.line(df.index, df['Load'], legend='Observed Electricity Consumption', line_width=1)\n",
    "p.line(df.index, df['y_pred'], legend='Predicted Electricity Consumption', line_width=1, line_color=\"red\")\n",
    "\n",
    "show(p, notebook_handle = True)\n",
    "\n",
    "# XGBOOST"
   ]
  }
 ],
 "metadata": {
  "kernelspec": {
   "display_name": "Python 3",
   "language": "python",
   "name": "python3"
  },
  "language_info": {
   "codemirror_mode": {
    "name": "ipython",
    "version": 3
   },
   "file_extension": ".py",
   "mimetype": "text/x-python",
   "name": "python",
   "nbconvert_exporter": "python",
   "pygments_lexer": "ipython3",
   "version": "3.8.5"
  }
 },
 "nbformat": 4,
 "nbformat_minor": 4
}
